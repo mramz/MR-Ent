{
 "cells": [
  {
   "cell_type": "code",
   "execution_count": 1,
   "metadata": {
    "collapsed": true
   },
   "outputs": [],
   "source": [
    "import numpy as np\n",
    "import scipy.sparse as sp\n",
    "from itertools import groupby\n",
    "from operator import itemgetter\n",
    "import time\n",
    "import csv\n",
    "from scipy.stats import wishart\n",
    "from numpy.linalg import inv\n",
    "from numpy.linalg import cholesky"
   ]
  },
  {
   "cell_type": "code",
   "execution_count": 2,
   "metadata": {},
   "outputs": [],
   "source": [
    "matrixData=np.array(list(csv.reader(open(\"netflixdata.csv\",\"rb\"),delimiter=','))).astype('int')\n",
    "Vj=np.array(list(csv.reader(open(\"movie.csv\",\"rb\"),delimiter=','))).astype('float')\n",
    "Ui=np.array(list(csv.reader(open(\"user.csv\",\"rb\"),delimiter=','))).astype('float')\n",
    "spr=sp.csc_matrix(matrixData)"
   ]
  },
  {
   "cell_type": "code",
   "execution_count": 3,
   "metadata": {},
   "outputs": [],
   "source": [
    "b0=2.0\n",
    "dim=10\n",
    "m0=np.zeros((dim,1))\n",
    "w0=np.identity(dim)\n",
    "v0=10."
   ]
  },
  {
   "cell_type": "code",
   "execution_count": 4,
   "metadata": {},
   "outputs": [],
   "source": [
    "def NUV(latentFeat):\n",
    "    nuv = len(latentFeat)\n",
    "    return nuv\n",
    "\n",
    "def SUV(latentFeat):\n",
    "    suv = np.cov(latentFeat.T)\n",
    "    return suv\n",
    "\n",
    "def XUV(latentFeat):\n",
    "    xuv = np.mean(latentFeat,axis=0).reshape(dim,1)\n",
    "    return xuv"
   ]
  },
  {
   "cell_type": "code",
   "execution_count": 5,
   "metadata": {},
   "outputs": [],
   "source": [
    "posList=(np.transpose(sp.find(spr)[0:2])).tolist()\n",
    "posList.sort(key=itemgetter(1))\n",
    "groups = groupby(posList, itemgetter(1))\n",
    "p1=np.array([[item[0] for item in data] for (key, data) in groups])\n",
    "posList.sort(key=itemgetter(0))\n",
    "groups = groupby(posList, itemgetter(0))\n",
    "p2=np.array([[item[1] for item in data] for (key, data) in groups])\n",
    "\n",
    "b=np.diff(spr.indptr) == 0\n",
    "zc=[i for i,x in enumerate(b) if x == True]"
   ]
  },
  {
   "cell_type": "code",
   "execution_count": 6,
   "metadata": {},
   "outputs": [],
   "source": [
    "def rij(mdata):\n",
    "    r = map(lambda x : x.data.reshape(-1,1), mdata.T)\n",
    "    for zeros in zc:\n",
    "        r[zeros] = np.array([[0]])\n",
    "    return r\n",
    "    \n",
    "def rij2(mdata):\n",
    "    r = map(lambda x : x.data.reshape(-1,1), mdata)\n",
    "    return r"
   ]
  },
  {
   "cell_type": "code",
   "execution_count": 22,
   "metadata": {},
   "outputs": [],
   "source": [
    "def AB(latentFeat, iter):\n",
    "    ab = map(lambda X: np.array(map(lambda x : latentFeat[x],X)),p1)\n",
    "    if iter < 2:\n",
    "        for zeros in zc:\n",
    "            ab.insert(zeros, np.zeros((1,dim)))\n",
    "    return ab\n",
    "\n",
    "def BA(latentFeat):\n",
    "    ba = map(lambda X: np.array(map(lambda x : latentFeat[x],X)),p2)\n",
    "    return ba"
   ]
  },
  {
   "cell_type": "code",
   "execution_count": 8,
   "metadata": {},
   "outputs": [],
   "source": [
    "def wScale(latentFeat):\n",
    "    ws = ((inv(inv(w0)+NUV(latentFeat)*SUV(latentFeat)+b0*NUV(latentFeat)/(b0+NUV(latentFeat))*np.dot((m0-XUV(latentFeat)),(m0-XUV(latentFeat)).T)))+(inv(inv(w0)+NUV(latentFeat)*SUV(latentFeat)+b0*NUV(latentFeat)/(b0+NUV(latentFeat))*np.dot((m0-XUV(latentFeat)),(m0-XUV(latentFeat)).T))).T)/2\n",
    "    return ws\n",
    "\n",
    "def LL(latentFeat):\n",
    "    ll = cholesky((inv(b0+NUV(latentFeat)*covaruv(latentFeat))+inv(b0+NUV(latentFeat)*covaruv(latentFeat)).T)/2)\n",
    "    return ll\n",
    "\n",
    "def covaruv(latentFeat):\n",
    "    cuv = wishart(v0+NUV(latentFeat),wScale(latentFeat)).rvs(1)\n",
    "    return cuv\n",
    "\n",
    "def meanuv(latentFeat):\n",
    "    m = (b0*m0+NUV(latentFeat)*XUV(latentFeat))/(b0+NUV(latentFeat))\n",
    "    muv = m + (np.dot(LL(latentFeat),np.random.normal(0, 1,dim))).reshape(dim,1)\n",
    "    return muv"
   ]
  },
  {
   "cell_type": "code",
   "execution_count": 9,
   "metadata": {},
   "outputs": [],
   "source": [
    "def covar(iAB,iLv):\n",
    "    cv = (inv(iLv+2*np.dot(iAB.T,iAB))+(inv(iLv+2*np.dot(iAB.T,iAB))).T)/2\n",
    "    return cv\n",
    "\n",
    "\n",
    "def mmean(covar, iAB, rij, iLv, imv):\n",
    "    mm = np.dot(covar,b0*np.dot(iAB.T,(rij))+np.dot(iLv,imv))\n",
    "    return mm\n",
    "\n",
    "def ABlat(covar,mmean):\n",
    "    abl=mmean+(np.dot(cholesky(covar),np.random.normal(0, 1,dim))).reshape(dim,1)\n",
    "    return abl"
   ]
  },
  {
   "cell_type": "code",
   "execution_count": 23,
   "metadata": {},
   "outputs": [],
   "source": [
    "def Gibbs(sparseM, priorU , priorV, iterations):\n",
    "    r1 = rij(sparseM)\n",
    "    r2 = rij2(sparseM)\n",
    "    \n",
    "    iU0=priorU\n",
    "    iV0=priorV\n",
    "    \n",
    "    for ii in xrange(iterations):\n",
    "        ilv = covaruv(iV0)\n",
    "        imv = meanuv(iV0)\n",
    "        \n",
    "        ilu = covaruv(iU0)\n",
    "        imu = meanuv(iU0)\n",
    "    \n",
    "        for thinning in xrange(2):\n",
    "            iter = ii+1\n",
    "            iAB = AB(iU0, iter)\n",
    "            iL = map(covar, iAB, [ilv for number in xrange(len(iAB))])\n",
    "            ia= map(mmean, iL, iAB, r1, [ilv for number in xrange(len(iAB))], [imv for number in xrange(len(iAB))])\n",
    "            iV0 = np.array(map(ABlat, iL, ia)).reshape(len(iAB),dim)\n",
    "            \n",
    "        \n",
    "            iAB = BA(iV0)\n",
    "            iL = map(covar, iAB, [ilu for number in xrange(len(iAB))])\n",
    "            ia= map(mmean, iL, iAB, r2, [ilu for number in xrange(len(iAB))], [imu for number in xrange(len(iAB))])\n",
    "            iU0 = np.array(map(ABlat, iL, ia)).reshape(len(iAB),dim)\n",
    "        \n",
    "\n",
    "    return iU0"
   ]
  },
  {
   "cell_type": "code",
   "execution_count": 24,
   "metadata": {},
   "outputs": [
    {
     "name": "stdout",
     "output_type": "stream",
     "text": [
      "8.76414\n"
     ]
    }
   ],
   "source": [
    "t0= time.clock()\n",
    "Gibbs(spr, Ui, Vj, 1)\n",
    "print time.clock() - t0"
   ]
  },
  {
   "cell_type": "code",
   "execution_count": null,
   "metadata": {},
   "outputs": [],
   "source": [
    ""
   ]
  }
 ],
 "metadata": {
  "kernelspec": {
   "display_name": "Python 2",
   "language": "python",
   "name": "python2"
  },
  "language_info": {
   "codemirror_mode": {
    "name": "ipython",
    "version": 2.0
   },
   "file_extension": ".py",
   "mimetype": "text/x-python",
   "name": "python",
   "nbconvert_exporter": "python",
   "pygments_lexer": "ipython2",
   "version": "2.7.6"
  }
 },
 "nbformat": 4,
 "nbformat_minor": 0
}